{
 "cells": [
  {
   "cell_type": "markdown",
   "metadata": {},
   "source": [
    "<div class = \"alert alert-warning\" align=\"center\"> \n",
    "    <img src=\"https://www.egd.mg/wp-content/uploads/2020/01/cropped-logo-home-110px.png\" align=\"left\" width=\"290\"  margin=\"50px\"> \n",
    "    <center><h1>Lycée français de Tananarive</h1> \n",
    "        <h2> Jupyter Hub,  Spécialité NSI </h2></center>\n",
    "</div>"
   ]
  },
  {
   "cell_type": "markdown",
   "metadata": {
    "deletable": false,
    "editable": false,
    "nbgrader": {
     "cell_type": "markdown",
     "checksum": "8eb9b4857c627ca3f89fb924246ac7a8",
     "grade": false,
     "grade_id": "cell-27b9f29b52d0dfab",
     "locked": true,
     "schema_version": 3,
     "solution": false
    }
   },
   "source": [
    "# Le crépier psychorigide.\n",
    "__Tri par renversement d'indice__\n",
    "\n",
    "## 1. Préalable\n",
    "\n",
    "> Dans cette partie, vous ne pourrez utiliser que des instructions élémentaires, à l'exclusion de toutes fonctions et méthodes propres au langage Python.\n",
    "\n",
    "**L'objectif étant justement de comprendre comment sont implantées ces fonctions et méthodes**"
   ]
  },
  {
   "cell_type": "markdown",
   "metadata": {
    "deletable": false,
    "editable": false,
    "nbgrader": {
     "cell_type": "markdown",
     "checksum": "1177e767618d90813d2483e51ebf81e4",
     "grade": false,
     "grade_id": "cell-d7e3c56aff395aad",
     "locked": true,
     "schema_version": 3,
     "solution": false
    }
   },
   "source": [
    "## 2. Renversement d'indices\n",
    "> **Vous devez écrire une fonction `renverse(T)` qui renvoie une liste dont les indices ont été renversés**"
   ]
  },
  {
   "cell_type": "code",
   "execution_count": 27,
   "metadata": {
    "deletable": false,
    "nbgrader": {
     "cell_type": "code",
     "checksum": "862d151015725467316e17b61f1d3072",
     "grade": false,
     "grade_id": "cell-67563a4c7ffe4325",
     "locked": false,
     "schema_version": 3,
     "solution": true
    }
   },
   "outputs": [],
   "source": [
    "lst_0 =['a', 'b', 'c', 'd', 'e', 'f', 'g',\n",
    "        'h', 'i', 'j', 'k', 'l', 'm', 'n',\n",
    "        'o', 'p', 'q', 'r', 's', 't', 'u',\n",
    "        'v', 'w', 'x', 'y', 'z']\n",
    "\n",
    "lst_1 = [1, 2, 3, 4, 5, 6]\n",
    "\n",
    "def renverse(T):\n",
    "    cpt = -1\n",
    "    x = []\n",
    "    for i in range(len(T)):\n",
    "        x.append(T[cpt])\n",
    "        cpt -= 1\n",
    "    return x\n",
    "\n",
    "def renverse(T) :\n",
    "    new_lst = [x for x in T[::-1]]\n",
    "    return new_lst"
   ]
  },
  {
   "cell_type": "code",
   "execution_count": 28,
   "metadata": {
    "deletable": false,
    "editable": false,
    "nbgrader": {
     "cell_type": "code",
     "checksum": "7996d4151aec561ccd67bd28580bea89",
     "grade": true,
     "grade_id": "cell-953f8bc651015a42",
     "locked": true,
     "points": 3,
     "schema_version": 3,
     "solution": false
    }
   },
   "outputs": [],
   "source": [
    "assert renverse([1, 2, 3]) == [3, 2, 1]\n",
    "assert renverse([1]) == [1]\n",
    "assert renverse([\"a\",\"b\",\"c\",\"d\",\"e\"]) == ['e', 'd', 'c', 'b', 'a']"
   ]
  },
  {
   "cell_type": "markdown",
   "metadata": {
    "deletable": false,
    "editable": false,
    "nbgrader": {
     "cell_type": "markdown",
     "checksum": "4ccaf00e9bb6d96f04c36e734c3bb030",
     "grade": false,
     "grade_id": "cell-5879b5ac5a6e735b",
     "locked": true,
     "schema_version": 3,
     "solution": false
    }
   },
   "source": [
    "## 3. Trouver l'indice du maximum\n",
    "> **Ecrire une fonction `indice_maximum(T)`, qui renvoie l'indice de la valeur maximale de cette liste.**"
   ]
  },
  {
   "cell_type": "code",
   "execution_count": 103,
   "metadata": {
    "deletable": false,
    "nbgrader": {
     "cell_type": "code",
     "checksum": "5f9e24d9b54e5936d464954eaea2bd71",
     "grade": false,
     "grade_id": "cell-903d94015337f08c",
     "locked": false,
     "schema_version": 3,
     "solution": true
    }
   },
   "outputs": [
    {
     "data": {
      "text/plain": [
       "5"
      ]
     },
     "execution_count": 103,
     "metadata": {},
     "output_type": "execute_result"
    }
   ],
   "source": [
    "def maximum(J):\t\n",
    "    max_value = J[0]\n",
    "    for x in range(len(J)):\n",
    "        while max_value < J[x]:\n",
    "            max_value = J[x]\n",
    "    return max_value\n",
    "def indice_maximum(T):\n",
    "    for i in range(len(T)):\n",
    "        if T[i] == maximum(T):\n",
    "            return i\n",
    "indice_maximum(lst_1)"
   ]
  },
  {
   "cell_type": "code",
   "execution_count": 30,
   "metadata": {
    "deletable": false,
    "editable": false,
    "nbgrader": {
     "cell_type": "code",
     "checksum": "2156f5e27eb1974ceb4088c203162ecc",
     "grade": true,
     "grade_id": "cell-a539e0a4b191e298",
     "locked": true,
     "points": 3,
     "schema_version": 3,
     "solution": false
    }
   },
   "outputs": [],
   "source": [
    "assert indice_maximum([1, 2, 3, 4, 5]) == 4\n",
    "assert indice_maximum([1,6, 2, 3, 4, 5]) == 1"
   ]
  },
  {
   "cell_type": "markdown",
   "metadata": {
    "deletable": false,
    "editable": false,
    "nbgrader": {
     "cell_type": "markdown",
     "checksum": "aca3bb5ce52f644abb814a61ea310bff",
     "grade": false,
     "grade_id": "cell-958a3a6caf888da4",
     "locked": true,
     "schema_version": 3,
     "solution": false
    }
   },
   "source": [
    "## 4. Creation d'un tas de crépes de longueur déterminée.\n",
    "> **Vous devez écrire une fonction `tas_de_crepes(n)` qui contiennent tous les entiers de $1$ à $n$.**\n",
    "\n",
    "Plus l'entier sera grand plus la crépe sera grande, mais cela sera pour plus tard."
   ]
  },
  {
   "cell_type": "code",
   "execution_count": 31,
   "metadata": {
    "deletable": false,
    "nbgrader": {
     "cell_type": "code",
     "checksum": "1a3d6c173815ff70d1d4443e77162512",
     "grade": false,
     "grade_id": "cell-02011542210a556a",
     "locked": false,
     "schema_version": 3,
     "solution": true
    }
   },
   "outputs": [
    {
     "data": {
      "text/plain": [
       "[1, 2, 3, 4, 5, 6, 7, 8, 9, 10]"
      ]
     },
     "execution_count": 31,
     "metadata": {},
     "output_type": "execute_result"
    }
   ],
   "source": [
    "def tas_de_crepes(n) :\n",
    "    v = [x for x in range(1, n + 1)]\n",
    "    return v\n",
    "tas_de_crepes(10)"
   ]
  },
  {
   "cell_type": "code",
   "execution_count": 32,
   "metadata": {
    "deletable": false,
    "editable": false,
    "nbgrader": {
     "cell_type": "code",
     "checksum": "276ff867357da6343deb889b238b20e2",
     "grade": true,
     "grade_id": "cell-539137de54663363",
     "locked": true,
     "points": 1,
     "schema_version": 3,
     "solution": false
    }
   },
   "outputs": [],
   "source": [
    "assert tas_de_crepes(10) == [1, 2, 3, 4, 5, 6, 7, 8, 9, 10]"
   ]
  },
  {
   "cell_type": "markdown",
   "metadata": {
    "deletable": false,
    "editable": false,
    "nbgrader": {
     "cell_type": "markdown",
     "checksum": "ffe1c3d1a6be2ae39bf9828370ebb082",
     "grade": false,
     "grade_id": "cell-e42b65448e08d556",
     "locked": true,
     "schema_version": 3,
     "solution": false
    }
   },
   "source": [
    "On peut maintenant mélanger ce tas de crêpes, tout lui appliquer la méthode du crépier psychorigide. La fonction `melange_crepes(T)`, ci dessous permet de prendre en argument une liste précédemment créer et de la mélanger."
   ]
  },
  {
   "cell_type": "code",
   "execution_count": 151,
   "metadata": {
    "deletable": false,
    "editable": false,
    "nbgrader": {
     "cell_type": "code",
     "checksum": "417fd1cf56dc00600a721477f2245450",
     "grade": false,
     "grade_id": "cell-7d2bfb148556bfb0",
     "locked": true,
     "schema_version": 3,
     "solution": false
    }
   },
   "outputs": [
    {
     "data": {
      "text/plain": [
       "[18, 13, 20, 16, 7, 4, 5, 17, 11, 6, 3, 2, 12, 10, 8, 15, 14, 1, 19, 9]"
      ]
     },
     "execution_count": 151,
     "metadata": {},
     "output_type": "execute_result"
    }
   ],
   "source": [
    "import random\n",
    "def melange_crepes(T) :\n",
    "    random.shuffle(T)\n",
    "    return T\n",
    "\n",
    "melange_crepes(tas_de_crepes(20))"
   ]
  },
  {
   "cell_type": "markdown",
   "metadata": {
    "deletable": false,
    "editable": false,
    "nbgrader": {
     "cell_type": "markdown",
     "checksum": "46afd4e56b012189112b7bb1180d1745",
     "grade": false,
     "grade_id": "cell-d90a4e5fc48ad517",
     "locked": true,
     "schema_version": 3,
     "solution": false
    }
   },
   "source": [
    "## 5. L'algorithme du crépier psychorigide.\n",
    "> **En utilisant les fonction `renverse(T)` et `indice_maximum(T)`, précédemment écrite, écrire une fonction `crepier(T)`, qui prend en argument un liste de crépes préalablement mélanger et qui renvoie une liste de crépes trièe de la plus grande à la plus petite.**"
   ]
  },
  {
   "cell_type": "code",
   "execution_count": 160,
   "metadata": {
    "deletable": false,
    "nbgrader": {
     "cell_type": "code",
     "checksum": "4cc191e51ba4107c4b67a5c7b51d52c2",
     "grade": false,
     "grade_id": "cell-938895788ce22360",
     "locked": false,
     "schema_version": 3,
     "solution": true
    }
   },
   "outputs": [],
   "source": [
    "def crepier(T):\n",
    "    n = len(T)\n",
    "    for x in range(n):\n",
    "        for y in range(0, n-x-1):\n",
    "            if T[y] < T[y+1]:\n",
    "                T[y], T[y+1] = T[y+1], T[y]\n",
    "    return T"
   ]
  },
  {
   "cell_type": "code",
   "execution_count": 159,
   "metadata": {
    "deletable": false,
    "editable": false,
    "nbgrader": {
     "cell_type": "code",
     "checksum": "367636d05c2b77ac2cf260bdc1616527",
     "grade": true,
     "grade_id": "cell-91f9f098926ed601",
     "locked": true,
     "points": 5,
     "schema_version": 3,
     "solution": false
    }
   },
   "outputs": [],
   "source": [
    "assert crepier([2,3,1,4,6,7,5]) == [7, 6, 5, 4, 3, 2, 1]\n",
    "assert crepier([1]) == [1]\n",
    "assert crepier([2,1,3]) == [3, 2, 1]\n",
    "assert crepier([8,7,6,5,4,3,2,1]) == [8, 7, 6, 5, 4, 3, 2, 1]\n",
    "assert crepier([1,2,3,4,5,6,7,8,9,10]) == [10, 9, 8, 7, 6, 5, 4, 3, 2, 1]"
   ]
  },
  {
   "cell_type": "markdown",
   "metadata": {
    "deletable": false,
    "editable": false,
    "nbgrader": {
     "cell_type": "markdown",
     "checksum": "6a95b81b6ef0322d9570be09359326b5",
     "grade": false,
     "grade_id": "cell-5f4e2a207ccd0d5b",
     "locked": true,
     "schema_version": 3,
     "solution": false
    }
   },
   "source": [
    "## 6. Coût en temps du tri Crépier Psychorigide.\n",
    "Nous allons maintenant essayer de trouver une relation entre le temps d'éxécution de notre algorithme et la taille du tas de crêpes.\n",
    "\n",
    "Pour cela vous trouverez ci dessous une fonction `compte-temps(n)`qui mesure en seconde le temps mis par notre alogrithme `crepier(T)` pour s'exécuter. On peut passer à cette fonction le nombre `n` qui représente la taille de la liste à traiter"
   ]
  },
  {
   "cell_type": "code",
   "execution_count": 49,
   "metadata": {
    "deletable": false,
    "editable": false,
    "nbgrader": {
     "cell_type": "code",
     "checksum": "8b104c28ba578ded67d1fecfc055aecb",
     "grade": false,
     "grade_id": "cell-cf7faa5ab8f95cc6",
     "locked": true,
     "schema_version": 3,
     "solution": false
    }
   },
   "outputs": [],
   "source": [
    "from time import process_time\n",
    "\n",
    "def compte_temps(n):\n",
    "    L = tas_de_crepes(n)\n",
    "    L = melange_crepes(L)\n",
    "    t1_start = process_time()  \n",
    "    crepier(L)\n",
    "    t1_stop = process_time() \n",
    "    return (t1_stop-t1_start)  "
   ]
  },
  {
   "cell_type": "markdown",
   "metadata": {},
   "source": [
    "**Explorer le code ci-dessous. Quelle est sa fonction ? Exécuter le( en étant un peu patient) puis expliquer le graphe obtenu: Quelle est la grandeur en abscisse ? Quelle est la grandeur en ordonnée ? Répondez dans la cellule ci-dessous en utilisant un formatage Markdown**"
   ]
  },
  {
   "cell_type": "markdown",
   "metadata": {
    "deletable": false,
    "nbgrader": {
     "cell_type": "markdown",
     "checksum": "f97e4676ff05a2830ad531a41e4a922f",
     "grade": true,
     "grade_id": "cell-e823d472c76fa863",
     "locked": false,
     "points": 3,
     "schema_version": 3,
     "solution": true
    }
   },
   "source": [
    "YOUR ANSWER HERE"
   ]
  },
  {
   "cell_type": "code",
   "execution_count": 165,
   "metadata": {},
   "outputs": [
    {
     "data": {
      "text/plain": [
       "'My Answer===========>:\\n\\nLe code ci-dessous contient une compréhension de liste affecté à la variable \"x\" qui renvoie \"i\" allant de 10 à 1000 en utilisant une boucle\\n\"for\" faisant un saut de 10 à chaque changement de valeur et une variable \"y\", puis on a une boucle qui parcourt tout les valeurs de la\\nvariable \"x\" et comme instruction dans cette boucle on demande à ce qu\\'on ajoute la valeur de la méthode compte_temps(i) dans la liste vide \"y\".\\nLa méthode plt.plot permet de tracer une courbe en abscisse et ordonnée passé en paramètre.\\n\\nLa grandeur en abscisse est la valeur de la variable x(qui peut représenter le temps d\\'execution de l\\'algorithme), et celle de l\\'ordonnée est celle de \"y\"\\n(qui peut représenter le nombre d\\'élément passé en paramètre)'"
      ]
     },
     "execution_count": 165,
     "metadata": {},
     "output_type": "execute_result"
    }
   ],
   "source": [
    "'''My Answer===========>:\n",
    "\n",
    "Le code ci-dessous contient une compréhension de liste affecté à la variable \"x\" qui renvoie \"i\" allant de 10 à 1000 en utilisant une boucle\n",
    "\"for\" faisant un saut de 10 à chaque changement de valeur et une variable \"y\", puis on a une boucle qui parcourt tout les valeurs de la\n",
    "variable \"x\" et comme instruction dans cette boucle on demande à ce qu'on ajoute la valeur de la méthode compte_temps(i) dans la liste vide \"y\".\n",
    "La méthode plt.plot permet de tracer une courbe en abscisse et ordonnée passé en paramètre.\n",
    "\n",
    "La grandeur en abscisse est la valeur de la variable x(qui peut représenter le temps d'execution de l'algorithme), et celle de l'ordonnée est celle de \"y\"\n",
    "(qui peut représenter le nombre d'élément passé en paramètre)'''"
   ]
  },
  {
   "cell_type": "code",
   "execution_count": 50,
   "metadata": {
    "deletable": false,
    "editable": false,
    "nbgrader": {
     "cell_type": "code",
     "checksum": "3026dd869ba3f8e70979e8adc8e761a7",
     "grade": false,
     "grade_id": "cell-3c53eb7beb356cc4",
     "locked": true,
     "schema_version": 3,
     "solution": false
    }
   },
   "outputs": [
    {
     "data": {
      "text/plain": [
       "[<matplotlib.lines.Line2D at 0x7f5bc522f198>]"
      ]
     },
     "execution_count": 50,
     "metadata": {},
     "output_type": "execute_result"
    },
    {
     "data": {
      "image/png": "[encoded data removed]",
      "text/plain": [
       "<Figure size 432x288 with 1 Axes>"
      ]
     },
     "metadata": {
      "needs_background": "light"
     },
     "output_type": "display_data"
    }
   ],
   "source": [
    "import matplotlib.pyplot as plt\n",
    "\n",
    "x = [i for i in range(10,1000,10)]\n",
    "y=[]\n",
    "for i in x :\n",
    "    y.append(compte_temps(i))\n",
    "\n",
    "plt.plot(x,y)"
   ]
  },
  {
   "cell_type": "markdown",
   "metadata": {
    "deletable": false,
    "editable": false,
    "nbgrader": {
     "cell_type": "markdown",
     "checksum": "6151183d6e787a5843499c7d33db2001",
     "grade": false,
     "grade_id": "cell-967e07d8ae52c428",
     "locked": true,
     "schema_version": 3,
     "solution": false
    }
   },
   "source": [
    "**On a un peu modifier le code ci-dessus dans la cellule ci-dessus. Quelle est maintenant la grandeur représenté en abscisse ? Que peut-on dire du temps d'exécution de notre alogorithme en fonction du nombre `n` qui représente la taille de la liste passée en paramètre ? Répondez dans la cellule ci-dessous en utilisant un formatage Markdown**"
   ]
  },
  {
   "cell_type": "markdown",
   "metadata": {
    "deletable": false,
    "nbgrader": {
     "cell_type": "markdown",
     "checksum": "0a15dd95435708463f9aede0642ba233",
     "grade": true,
     "grade_id": "cell-033c8198a1dc4b36",
     "locked": false,
     "points": 0,
     "schema_version": 3,
     "solution": true
    }
   },
   "source": [
    "YOUR ANSWER HERE"
   ]
  },
  {
   "cell_type": "code",
   "execution_count": 163,
   "metadata": {},
   "outputs": [
    {
     "data": {
      "text/plain": [
       "'Dans le code modifié, on importe en plus la méthode sqrt qui représente la (racine carré), puis les valeurs de la variable \"x\" ont augmenté\\nau niveau de la puissance par rapport aux éléments à l\\'intérieur (on peut dire que c\\'est une mise à jour de la variable \"x\").\\nC\\'EST LA GRANDEUR REPRESENTE EN ABSCISSE(On peut dire que c\\'est\\nle nombre \"n\" d\\'algorithme passé en paramètre).\\nOn peut dire du temps d\\'éxécution de notre algorithme que si le nombre \"n\" varie selon la grandeur du nombre d\\'algorihme \"n\" passé en paramètre'"
      ]
     },
     "execution_count": 163,
     "metadata": {},
     "output_type": "execute_result"
    }
   ],
   "source": [
    "'''Dans le code modifié, on importe en plus la méthode sqrt qui représente la (racine carré), puis les valeurs de la variable \"x\" ont augmenté\n",
    "au niveau de la puissance par rapport aux éléments à l'intérieur (on peut dire que c'est une mise à jour de la variable \"x\").\n",
    "C'EST LA GRANDEUR REPRESENTE EN ABSCISSE(On peut dire que c'est\n",
    "le nombre \"n\" d'algorithme passé en paramètre).\n",
    "On peut dire du temps d'éxécution de notre algorithme que si le nombre \"n\" varie selon la grandeur du nombre d'algorihme \"n\" passé en paramètre'''"
   ]
  },
  {
   "cell_type": "code",
   "execution_count": 51,
   "metadata": {
    "deletable": false,
    "editable": false,
    "nbgrader": {
     "cell_type": "code",
     "checksum": "4ff0d5382c1e0adc6fac45e8c68bb5c1",
     "grade": false,
     "grade_id": "cell-47a7f54c9244e4f0",
     "locked": true,
     "schema_version": 3,
     "solution": false
    }
   },
   "outputs": [
    {
     "data": {
      "text/plain": [
       "[<matplotlib.lines.Line2D at 0x7f5bc4d56940>]"
      ]
     },
     "execution_count": 51,
     "metadata": {},
     "output_type": "execute_result"
    },
    {
     "data": {
      "image/png": "[encoded data removed]",
      "text/plain": [
       "<Figure size 432x288 with 1 Axes>"
      ]
     },
     "metadata": {
      "needs_background": "light"
     },
     "output_type": "display_data"
    }
   ],
   "source": [
    "from math import sqrt\n",
    "import matplotlib.pyplot as plt\n",
    "x = [i for i in range(10,1000,10)]\n",
    "y=[]\n",
    "for i in x :\n",
    "    y.append(compte_temps(i))\n",
    "x = [i**2 for i in x]\n",
    "plt.plot(x,y)\n"
   ]
  },
  {
   "cell_type": "markdown",
   "metadata": {
    "deletable": false,
    "editable": false,
    "nbgrader": {
     "cell_type": "markdown",
     "checksum": "4aff9a947fda4839e66f7aea1f0c07b9",
     "grade": false,
     "grade_id": "cell-178b64e70078acdf",
     "locked": true,
     "schema_version": 3,
     "solution": false
    }
   },
   "source": [
    "**Ne le faites surtout pas !! mais évaluer par le calcul le temps qu'il faudrait à notre algorithme du crpépier pour traiter une liste contenant $10^6$ valeurs, pour traiter une liste contenant $10^9$ valeur. Répondez dans la cellule ci-dessous**"
   ]
  },
  {
   "cell_type": "code",
   "execution_count": 164,
   "metadata": {},
   "outputs": [
    {
     "data": {
      "text/plain": [
       "\"La Croissance de l'abscisse est lié à la croissance de l'ordonnéé.\""
      ]
     },
     "execution_count": 164,
     "metadata": {},
     "output_type": "execute_result"
    }
   ],
   "source": [
    "'''La Croissance de l'abscisse est lié à la croissance de l'ordonnéé.'''"
   ]
  },
  {
   "cell_type": "markdown",
   "metadata": {
    "deletable": false,
    "editable": false,
    "nbgrader": {
     "cell_type": "markdown",
     "checksum": "f066e638766f9f5c0577be945bd97b11",
     "grade": false,
     "grade_id": "cell-f6e0ca77d32d3cb9",
     "locked": true,
     "schema_version": 3,
     "solution": false
    }
   },
   "source": []
  }
 ],
 "metadata": {
  "kernelspec": {
   "display_name": "Python 3",
   "language": "python",
   "name": "python3"
  },
  "language_info": {
   "codemirror_mode": {
    "name": "ipython",
    "version": 3
   },
   "file_extension": ".py",
   "mimetype": "text/x-python",
   "name": "python",
   "nbconvert_exporter": "python",
   "pygments_lexer": "ipython3",
   "version": "3.6.9"
  },
  "latex_envs": {
   "LaTeX_envs_menu_present": true,
   "autoclose": false,
   "autocomplete": true,
   "bibliofile": "biblio.bib",
   "cite_by": "apalike",
   "current_citInitial": 1,
   "eqLabelWithNumbers": true,
   "eqNumInitial": 1,
   "hotkeys": {
    "equation": "Ctrl-E",
    "itemize": "Ctrl-I"
   },
   "labels_anchors": false,
   "latex_user_defs": false,
   "report_style_numbering": false,
   "user_envs_cfg": false
  }
 },
 "nbformat": 4,
 "nbformat_minor": 2
}
